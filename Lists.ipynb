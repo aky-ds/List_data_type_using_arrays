{
 "cells": [
  {
   "cell_type": "code",
   "execution_count": 42,
   "metadata": {},
   "outputs": [],
   "source": [
    "import ctypes"
   ]
  },
  {
   "cell_type": "code",
   "execution_count": 43,
   "metadata": {},
   "outputs": [],
   "source": [
    "# creating a dynamic array\n",
    "\n",
    "class mylist:\n",
    "\n",
    "    # initializing the list params\n",
    "    def __init__(self):\n",
    "        self.n=0\n",
    "        self.size=1\n",
    "        self.A=self.__make_array__(self.size)\n",
    "    \n",
    "    # Appending an item to a list\n",
    "    def append(self,item):\n",
    "        if self.n==self.size:\n",
    "            self._resize(self.size*2)\n",
    "        self.A[self.n]=item\n",
    "        self.n=self.n+1\n",
    "\n",
    "    # Printing a list\n",
    "    def __str__(self):\n",
    "        result=''\n",
    "        for i in range(self.n):\n",
    "            result=result+str(self.A[i])+','\n",
    "        return '['+ result[:-1]+']'\n",
    "    \n",
    "    # Perform the pop function\n",
    "    def pop(self):\n",
    "        if self.n==0:\n",
    "            return 'Empty list'\n",
    "        print(self.A[self.n-1])\n",
    "        self.n=self.n-1\n",
    "\n",
    "    # Remove function\n",
    "    def remove(self,item):\n",
    "        # Searching for the item\n",
    "        pos=self.find(item)\n",
    "        if type(pos)==int:\n",
    "            self.__delete__(pos)\n",
    "        else:\n",
    "            return pos\n",
    "        \n",
    "    # inserting an element\n",
    "    def insert(self,pos,item):\n",
    "        if self.size==self.n:\n",
    "            self._resize(self.size*2)\n",
    "        for i in range(pos,self.n,-1):\n",
    "            self.A[i]=self.A[i-1]\n",
    "        self.A[pos]=item\n",
    "        self.n=self.n+1\n",
    "    \n",
    "    # Delete function\n",
    "    def __delete__(self,pos):\n",
    "        if 0 <= pos < self.n:\n",
    "            for i in range(pos,self.n-1):\n",
    "                self.A[i]=self.A[i+1]\n",
    "            self.n=self.n-1\n",
    "\n",
    "\n",
    "\n",
    "\n",
    "    # Resizing an array\n",
    "    def _resize(self,capacity):\n",
    "        # create a new array for a resizing\n",
    "        B=self.__make_array__(capacity)\n",
    "        self.size=capacity\n",
    "        for i in range(self.n):\n",
    "            B[i]=self.A[i]\n",
    "        # Assinging again the new list to the old variable\n",
    "        self.A=B\n",
    "    \n",
    "\n",
    "    # Clear a list\n",
    "    def clear(self):\n",
    "        self.size=1\n",
    "        self.n=0\n",
    "\n",
    "\n",
    "\n",
    "\n",
    "    \n",
    "    # Finding an item in the list\n",
    "    def find(self,item):\n",
    "        for i in range(self.n):\n",
    "            if self.A[i]==item:\n",
    "                return i\n",
    "        return 'Value Error not in the list'\n",
    "\n",
    "\n",
    "\n",
    "\n",
    "\n",
    "\n",
    "    # Finding the length of a list\n",
    "    def __len__(self):\n",
    "        return self.n\n",
    "\n",
    "    \n",
    "\n",
    "    # Creating a method of making a list\n",
    "    def __make_array__(self,capacity):\n",
    "        return (capacity*ctypes.py_object)()"
   ]
  },
  {
   "cell_type": "code",
   "execution_count": 44,
   "metadata": {},
   "outputs": [],
   "source": [
    "L=mylist()"
   ]
  },
  {
   "cell_type": "code",
   "execution_count": 45,
   "metadata": {},
   "outputs": [
    {
     "data": {
      "text/plain": [
       "__main__.mylist"
      ]
     },
     "execution_count": 45,
     "metadata": {},
     "output_type": "execute_result"
    }
   ],
   "source": [
    "type(L)"
   ]
  },
  {
   "cell_type": "code",
   "execution_count": 46,
   "metadata": {},
   "outputs": [
    {
     "data": {
      "text/plain": [
       "0"
      ]
     },
     "execution_count": 46,
     "metadata": {},
     "output_type": "execute_result"
    }
   ],
   "source": [
    "len(L)"
   ]
  },
  {
   "cell_type": "code",
   "execution_count": 47,
   "metadata": {},
   "outputs": [],
   "source": [
    "L.append(1)"
   ]
  },
  {
   "cell_type": "code",
   "execution_count": 48,
   "metadata": {},
   "outputs": [
    {
     "data": {
      "text/plain": [
       "1"
      ]
     },
     "execution_count": 48,
     "metadata": {},
     "output_type": "execute_result"
    }
   ],
   "source": [
    "len(L)"
   ]
  },
  {
   "cell_type": "code",
   "execution_count": 49,
   "metadata": {},
   "outputs": [
    {
     "name": "stdout",
     "output_type": "stream",
     "text": [
      "[1]\n"
     ]
    }
   ],
   "source": [
    "print(L)"
   ]
  },
  {
   "cell_type": "code",
   "execution_count": 50,
   "metadata": {},
   "outputs": [],
   "source": [
    "L.append(2)"
   ]
  },
  {
   "cell_type": "code",
   "execution_count": 51,
   "metadata": {},
   "outputs": [
    {
     "name": "stdout",
     "output_type": "stream",
     "text": [
      "[1,2]\n"
     ]
    }
   ],
   "source": [
    "print(L)"
   ]
  },
  {
   "cell_type": "code",
   "execution_count": 52,
   "metadata": {},
   "outputs": [],
   "source": [
    "L.append(5)"
   ]
  },
  {
   "cell_type": "code",
   "execution_count": 53,
   "metadata": {},
   "outputs": [
    {
     "data": {
      "text/plain": [
       "3"
      ]
     },
     "execution_count": 53,
     "metadata": {},
     "output_type": "execute_result"
    }
   ],
   "source": [
    "len(L)"
   ]
  },
  {
   "cell_type": "code",
   "execution_count": 54,
   "metadata": {},
   "outputs": [
    {
     "data": {
      "text/plain": [
       "'Value Error not in the list'"
      ]
     },
     "execution_count": 54,
     "metadata": {},
     "output_type": "execute_result"
    }
   ],
   "source": [
    "L.find(7)"
   ]
  },
  {
   "cell_type": "code",
   "execution_count": 55,
   "metadata": {},
   "outputs": [
    {
     "name": "stdout",
     "output_type": "stream",
     "text": [
      "[1,2,5]\n"
     ]
    }
   ],
   "source": [
    "print(L)"
   ]
  },
  {
   "cell_type": "code",
   "execution_count": 56,
   "metadata": {},
   "outputs": [],
   "source": [
    "L.remove(2)"
   ]
  },
  {
   "cell_type": "code",
   "execution_count": 60,
   "metadata": {},
   "outputs": [],
   "source": [
    "L.remove(1)"
   ]
  },
  {
   "cell_type": "code",
   "execution_count": 61,
   "metadata": {},
   "outputs": [
    {
     "name": "stdout",
     "output_type": "stream",
     "text": [
      "[5,5,5]\n"
     ]
    }
   ],
   "source": [
    "print(L)"
   ]
  },
  {
   "cell_type": "code",
   "execution_count": 39,
   "metadata": {},
   "outputs": [],
   "source": [
    "L.append('Ayaz')"
   ]
  },
  {
   "cell_type": "code",
   "execution_count": 40,
   "metadata": {},
   "outputs": [],
   "source": [
    "L.insert(1,'a')"
   ]
  },
  {
   "cell_type": "code",
   "execution_count": 41,
   "metadata": {},
   "outputs": [
    {
     "ename": "ValueError",
     "evalue": "PyObject is NULL",
     "output_type": "error",
     "traceback": [
      "\u001b[1;31m---------------------------------------------------------------------------\u001b[0m",
      "\u001b[1;31mValueError\u001b[0m                                Traceback (most recent call last)",
      "Cell \u001b[1;32mIn[41], line 1\u001b[0m\n\u001b[1;32m----> 1\u001b[0m \u001b[38;5;28mprint\u001b[39m(L)\n",
      "Cell \u001b[1;32mIn[24], line 22\u001b[0m, in \u001b[0;36mmylist.__str__\u001b[1;34m(self)\u001b[0m\n\u001b[0;32m     20\u001b[0m result\u001b[38;5;241m=\u001b[39m\u001b[38;5;124m'\u001b[39m\u001b[38;5;124m'\u001b[39m\n\u001b[0;32m     21\u001b[0m \u001b[38;5;28;01mfor\u001b[39;00m i \u001b[38;5;129;01min\u001b[39;00m \u001b[38;5;28mrange\u001b[39m(\u001b[38;5;28mself\u001b[39m\u001b[38;5;241m.\u001b[39mn):\n\u001b[1;32m---> 22\u001b[0m     result\u001b[38;5;241m=\u001b[39mresult\u001b[38;5;241m+\u001b[39m\u001b[38;5;28mstr\u001b[39m(\u001b[38;5;28mself\u001b[39m\u001b[38;5;241m.\u001b[39mA[i])\u001b[38;5;241m+\u001b[39m\u001b[38;5;124m'\u001b[39m\u001b[38;5;124m,\u001b[39m\u001b[38;5;124m'\u001b[39m\n\u001b[0;32m     23\u001b[0m \u001b[38;5;28;01mreturn\u001b[39;00m \u001b[38;5;124m'\u001b[39m\u001b[38;5;124m[\u001b[39m\u001b[38;5;124m'\u001b[39m\u001b[38;5;241m+\u001b[39m result[:\u001b[38;5;241m-\u001b[39m\u001b[38;5;241m1\u001b[39m]\u001b[38;5;241m+\u001b[39m\u001b[38;5;124m'\u001b[39m\u001b[38;5;124m]\u001b[39m\u001b[38;5;124m'\u001b[39m\n",
      "\u001b[1;31mValueError\u001b[0m: PyObject is NULL"
     ]
    }
   ],
   "source": [
    "print(L)"
   ]
  },
  {
   "cell_type": "code",
   "execution_count": null,
   "metadata": {},
   "outputs": [],
   "source": []
  }
 ],
 "metadata": {
  "kernelspec": {
   "display_name": "base",
   "language": "python",
   "name": "python3"
  },
  "language_info": {
   "codemirror_mode": {
    "name": "ipython",
    "version": 3
   },
   "file_extension": ".py",
   "mimetype": "text/x-python",
   "name": "python",
   "nbconvert_exporter": "python",
   "pygments_lexer": "ipython3",
   "version": "3.12.7"
  }
 },
 "nbformat": 4,
 "nbformat_minor": 2
}
